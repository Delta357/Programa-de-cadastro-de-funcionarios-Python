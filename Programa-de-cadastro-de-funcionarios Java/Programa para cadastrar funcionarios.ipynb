{
 "cells": [
  {
   "cell_type": "markdown",
   "metadata": {},
   "source": [
    "# Programa de cadastro de funcionarios em python 3"
   ]
  },
  {
   "cell_type": "markdown",
   "metadata": {},
   "source": [
    "Programa de cadastro de funcionario com nome, telefone, celular, email, cep, bairro.\n",
    "\n",
    "Valido de idade de funcionario.\n"
   ]
  },
  {
   "cell_type": "markdown",
   "metadata": {},
   "source": [
    "Nome do funcionario"
   ]
  },
  {
   "cell_type": "code",
   "execution_count": null,
   "metadata": {},
   "outputs": [],
   "source": [
    "nome = str(input(\"Digite o nome do funcionario: \"))\n",
    "print(\"Concluído\")"
   ]
  },
  {
   "cell_type": "markdown",
   "metadata": {},
   "source": [
    "Validando idade do funcionario"
   ]
  },
  {
   "cell_type": "code",
   "execution_count": null,
   "metadata": {},
   "outputs": [],
   "source": [
    "#Idade do funcionario\n",
    "idade = int(input(\"Digite a idade do funcionario: \"))\n",
    "if idade > 18:\n",
    "    print(\"Funcionario aprovado pode continuar o cadastro!\")\n",
    "if idade < 18:\n",
    "    print(\"Funcionario não aprovado não pode ser cadastrado !\")"
   ]
  },
  {
   "cell_type": "markdown",
   "metadata": {},
   "source": [
    "Validando e-mail do funcionario"
   ]
  },
  {
   "cell_type": "code",
   "execution_count": null,
   "metadata": {},
   "outputs": [],
   "source": [
    "#E-Mail do funcionario    \n",
    "email = str(input(\"Digite o email do funcionario: \"))\n",
    "def valid_email(string):\n",
    "    pos = string.find(\"@\")\n",
    "    dot = string.rfind(\".\")\n",
    "    if pos < 1:\n",
    "        return False\n",
    "    if dot < pos + 2:\n",
    "        return False\n",
    "    if dot + 2 >= len(string):\n",
    "        return False\n",
    "    return True\n",
    "print(\"E-Mail aprovado funcionario !\")"
   ]
  },
  {
   "cell_type": "markdown",
   "metadata": {},
   "source": [
    "Cadastro de funcionarios \n",
    "Cadastra nome, telefone, email, celular.\n"
   ]
  },
  {
   "cell_type": "code",
   "execution_count": null,
   "metadata": {},
   "outputs": [],
   "source": [
    "#Cadastro do funcionario 1\n",
    "nome = str(input(\"Digite o nome do funcionario primeiro: \"))\n",
    "idade = int(input(\"Digite a idade do nuncionario: \"))\n",
    "telefone = int(input(\"Digite o numero de telefone do primeiro funcionario: \"))\n",
    "celular = int(input(\"Digite o numero de celular do primeiro funcionario: \"))\n",
    "email = str(input(\"Digite o email do funcionario do primeiro funcionario: \"))\n",
    "bairro = str(input(\"Digite o nome do bairro do primeiro funcionario: \"))\n",
    "CEP = int(input(\"Digite o numero do cep do primeiro funcionario: \"))\n",
    "print(\"\\n\")\n",
    "#Cadastro do funcionario 2\n",
    "nome = str(input(\"Digite o nome do funcionario segundo: \"))\n",
    "idade = int(input(\"Digite a idade do nuncionario: \"))\n",
    "telefone = int(input(\"Digite o numero de telefone do primeiro funcionario: \"))\n",
    "celular = int(input(\"Digite o numero de celular do Segundo funcionario: \"))\n",
    "email = str(input(\"Digite o email do funcionario do segundo funcionario: \"))\n",
    "bairro = str(input(\"Digite o nome do bairro do segundo funcionario:  \"))\n",
    "CEP = int(input(\"Digite o numero do cep do segundo funcionario: \"))\n",
    "print(\"\\n\")\n",
    "#Cadastro do funcionario 3\n",
    "nome = str(input(\"Digite o nome do funcionario terceiro: \"))\n",
    "idade = int(input(\"Digite a idade do nuncionario: \"))\n",
    "telefone = int(input(\"Digite o numero de telefone do terceiro funcionario: \"))\n",
    "celular = int(input(\"Digite o numero de celular do Terceiro funcionario: \"))\n",
    "email = str(input(\"Digite o email do funcionario do terceiro funcionario: \"))\n",
    "bairro = str(input(\"Digite o nome do bairro do terceiro funcionario: \"))\n",
    "CEP = int(input(\"Digite o numero do cep do terceiro funcionario: \"))\n",
    "print(\"\\n\")\n",
    "print(\"Cadastro funcionarios concluído com sucesso !\")"
   ]
  },
  {
   "cell_type": "code",
   "execution_count": null,
   "metadata": {},
   "outputs": [],
   "source": []
  }
 ],
 "metadata": {
  "kernelspec": {
   "display_name": "Python 3",
   "language": "python",
   "name": "python3"
  },
  "language_info": {
   "codemirror_mode": {
    "name": "ipython",
    "version": 3
   },
   "file_extension": ".py",
   "mimetype": "text/x-python",
   "name": "python",
   "nbconvert_exporter": "python",
   "pygments_lexer": "ipython3",
   "version": "3.6.5"
  }
 },
 "nbformat": 4,
 "nbformat_minor": 2
}
